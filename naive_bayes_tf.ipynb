{
 "cells": [
  {
   "cell_type": "code",
   "execution_count": 100,
   "metadata": {},
   "outputs": [],
   "source": [
    "import pandas as pd\n",
    "import numpy as np\n",
    "from sklearn.feature_extraction.text import CountVectorizer\n",
    "from sklearn.model_selection import train_test_split\n",
    "from sklearn.naive_bayes import MultinomialNB\n",
    "from sklearn.metrics import accuracy_score\n",
    "from sklearn.metrics import classification_report\n",
    "from sklearn.metrics import f1_score"
   ]
  },
  {
   "cell_type": "code",
   "execution_count": 101,
   "metadata": {},
   "outputs": [],
   "source": [
    "path_in = \"twitterClimateData.csv\"\n",
    "df = pd.read_csv(path_in, delimiter=\";\")\n",
    "df = df.sample(1000)\n",
    "df = df[pd.notnull(df[\"text\"])]"
   ]
  },
  {
   "cell_type": "code",
   "execution_count": 102,
   "metadata": {},
   "outputs": [
    {
     "data": {
      "text/html": [
       "<div>\n",
       "<style scoped>\n",
       "    .dataframe tbody tr th:only-of-type {\n",
       "        vertical-align: middle;\n",
       "    }\n",
       "\n",
       "    .dataframe tbody tr th {\n",
       "        vertical-align: top;\n",
       "    }\n",
       "\n",
       "    .dataframe thead th {\n",
       "        text-align: right;\n",
       "    }\n",
       "</style>\n",
       "<table border=\"1\" class=\"dataframe\">\n",
       "  <thead>\n",
       "    <tr style=\"text-align: right;\">\n",
       "      <th></th>\n",
       "      <th>Unnamed: 0</th>\n",
       "      <th>id</th>\n",
       "      <th>author_id</th>\n",
       "      <th>text</th>\n",
       "      <th>retweets</th>\n",
       "      <th>permalink</th>\n",
       "      <th>date</th>\n",
       "      <th>formatted_date</th>\n",
       "      <th>favorites</th>\n",
       "      <th>mentions</th>\n",
       "      <th>hashtags</th>\n",
       "      <th>geo</th>\n",
       "      <th>urls</th>\n",
       "      <th>search_hashtags</th>\n",
       "      <th>location</th>\n",
       "    </tr>\n",
       "  </thead>\n",
       "  <tbody>\n",
       "    <tr>\n",
       "      <th>42309</th>\n",
       "      <td>42309</td>\n",
       "      <td>1.17461e+18</td>\n",
       "      <td>219219891.0</td>\n",
       "      <td>Join the #ClimateStrike 20th - 27th Sept ..Col...</td>\n",
       "      <td>0</td>\n",
       "      <td>https://twitter.com/Sbhandral/status/117461112...</td>\n",
       "      <td>2019-09-19 09:08:09+00:00</td>\n",
       "      <td>Thu Sep 19 09:08:09 +0000 2019</td>\n",
       "      <td>0</td>\n",
       "      <td>NaN</td>\n",
       "      <td>#ClimateStrike</td>\n",
       "      <td>NaN</td>\n",
       "      <td>https://www.instagram.com/p/B2jjwVKnsSc/?igshi...</td>\n",
       "      <td>#climatestrike</td>\n",
       "      <td>Mumbai, India</td>\n",
       "    </tr>\n",
       "  </tbody>\n",
       "</table>\n",
       "</div>"
      ],
      "text/plain": [
       "       Unnamed: 0           id    author_id  \\\n",
       "42309       42309  1.17461e+18  219219891.0   \n",
       "\n",
       "                                                    text  retweets  \\\n",
       "42309  Join the #ClimateStrike 20th - 27th Sept ..Col...         0   \n",
       "\n",
       "                                               permalink  \\\n",
       "42309  https://twitter.com/Sbhandral/status/117461112...   \n",
       "\n",
       "                            date                  formatted_date  favorites  \\\n",
       "42309  2019-09-19 09:08:09+00:00  Thu Sep 19 09:08:09 +0000 2019          0   \n",
       "\n",
       "      mentions        hashtags  geo  \\\n",
       "42309      NaN  #ClimateStrike  NaN   \n",
       "\n",
       "                                                    urls search_hashtags  \\\n",
       "42309  https://www.instagram.com/p/B2jjwVKnsSc/?igshi...  #climatestrike   \n",
       "\n",
       "            location  \n",
       "42309  Mumbai, India  "
      ]
     },
     "execution_count": 102,
     "metadata": {},
     "output_type": "execute_result"
    }
   ],
   "source": [
    "df.head(1)"
   ]
  },
  {
   "cell_type": "code",
   "execution_count": 103,
   "metadata": {},
   "outputs": [],
   "source": [
    "count_vec = CountVectorizer()\n",
    "bow = count_vec.fit_transform(df['text'])\n",
    "bow = np.array(bow.todense())"
   ]
  },
  {
   "cell_type": "code",
   "execution_count": 104,
   "metadata": {},
   "outputs": [],
   "source": [
    "X = bow\n",
    "y = df.search_hashtags\n",
    "X_train, X_test, y_train, y_test = train_test_split(X, y, test_size=0.3, stratify=y)"
   ]
  },
  {
   "cell_type": "code",
   "execution_count": 105,
   "metadata": {},
   "outputs": [],
   "source": [
    "model = MultinomialNB().fit(X_train, y_train)"
   ]
  },
  {
   "cell_type": "code",
   "execution_count": 106,
   "metadata": {},
   "outputs": [],
   "source": [
    "y_pred = model.predict(X_test)"
   ]
  },
  {
   "cell_type": "code",
   "execution_count": 107,
   "metadata": {},
   "outputs": [
    {
     "name": "stdout",
     "output_type": "stream",
     "text": [
      "Accuracy: 0.52\n",
      "F1 score: 0.27349974737905774\n"
     ]
    }
   ],
   "source": [
    "print(f\"Accuracy: {accuracy_score(y_test, y_pred)}\")\n",
    "print(f\"F1 score: {f1_score(y_test, y_pred, average='macro')}\")"
   ]
  },
  {
   "cell_type": "code",
   "execution_count": 108,
   "metadata": {},
   "outputs": [
    {
     "name": "stdout",
     "output_type": "stream",
     "text": [
      "                   precision    recall  f1-score   support\n",
      "\n",
      "    #actonclimate       0.00      0.00      0.00         9\n",
      "       #bushfires       0.00      0.00      0.00         3\n",
      "   #climateaction       0.40      0.08      0.14        24\n",
      "   #climatechange       0.50      0.79      0.62        66\n",
      "   #climatecrisis       0.67      0.09      0.16        22\n",
      "   #climatestrike       0.48      0.96      0.64        78\n",
      "     #environment       0.25      0.11      0.15        18\n",
      "#fridaysforfuture       1.00      0.08      0.14        13\n",
      "   #globalwarming       1.00      0.24      0.38        17\n",
      "    #greennewdeal       1.00      0.25      0.40        20\n",
      "   #savetheplanet       0.00      0.00      0.00         5\n",
      "  #sustainability       0.87      0.52      0.65        25\n",
      "\n",
      "         accuracy                           0.52       300\n",
      "        macro avg       0.51      0.26      0.27       300\n",
      "     weighted avg       0.57      0.52      0.44       300\n",
      "\n"
     ]
    },
    {
     "name": "stderr",
     "output_type": "stream",
     "text": [
      "/home/david/.local/share/virtualenvs/Trabajo2_almdatos-LZAGjvTA/lib/python3.11/site-packages/sklearn/metrics/_classification.py:1469: UndefinedMetricWarning: Precision and F-score are ill-defined and being set to 0.0 in labels with no predicted samples. Use `zero_division` parameter to control this behavior.\n",
      "  _warn_prf(average, modifier, msg_start, len(result))\n",
      "/home/david/.local/share/virtualenvs/Trabajo2_almdatos-LZAGjvTA/lib/python3.11/site-packages/sklearn/metrics/_classification.py:1469: UndefinedMetricWarning: Precision and F-score are ill-defined and being set to 0.0 in labels with no predicted samples. Use `zero_division` parameter to control this behavior.\n",
      "  _warn_prf(average, modifier, msg_start, len(result))\n",
      "/home/david/.local/share/virtualenvs/Trabajo2_almdatos-LZAGjvTA/lib/python3.11/site-packages/sklearn/metrics/_classification.py:1469: UndefinedMetricWarning: Precision and F-score are ill-defined and being set to 0.0 in labels with no predicted samples. Use `zero_division` parameter to control this behavior.\n",
      "  _warn_prf(average, modifier, msg_start, len(result))\n"
     ]
    }
   ],
   "source": [
    "print(classification_report(y_test, y_pred))"
   ]
  },
  {
   "cell_type": "markdown",
   "metadata": {},
   "source": [
    "# Referencias\n",
    "\n",
    "* How to create a Naive Bayes text classification model using scikit-learn: https://practicaldatascience.co.uk/machine-learning/how-to-create-a-naive-bayes-text-classification-model-using-scikit-learn"
   ]
  }
 ],
 "metadata": {
  "kernelspec": {
   "display_name": "Trabajo2_almdatos-LZAGjvTA",
   "language": "python",
   "name": "python3"
  },
  "language_info": {
   "codemirror_mode": {
    "name": "ipython",
    "version": 3
   },
   "file_extension": ".py",
   "mimetype": "text/x-python",
   "name": "python",
   "nbconvert_exporter": "python",
   "pygments_lexer": "ipython3",
   "version": "3.11.5"
  },
  "orig_nbformat": 4
 },
 "nbformat": 4,
 "nbformat_minor": 2
}
