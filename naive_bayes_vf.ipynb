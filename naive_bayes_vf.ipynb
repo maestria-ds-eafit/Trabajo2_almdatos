{
 "cells": [
  {
   "cell_type": "code",
   "execution_count": 21,
   "metadata": {},
   "outputs": [],
   "source": [
    "import pandas as pd\n",
    "from nltk.corpus import stopwords\n",
    "#from sklearn.feature_extraction.text import TfidfVectorizer\n",
    "from sklearn.feature_extraction.text import TfidfTransformer\n",
    "from sklearn.metrics import accuracy_score,classification_report, f1_score\n",
    "from sklearn.model_selection import train_test_split\n",
    "from sklearn.feature_extraction.text import CountVectorizer\n",
    "from sklearn.naive_bayes import MultinomialNB\n"
   ]
  },
  {
   "cell_type": "code",
   "execution_count": 22,
   "metadata": {},
   "outputs": [
    {
     "data": {
      "text/html": [
       "<div>\n",
       "<style scoped>\n",
       "    .dataframe tbody tr th:only-of-type {\n",
       "        vertical-align: middle;\n",
       "    }\n",
       "\n",
       "    .dataframe tbody tr th {\n",
       "        vertical-align: top;\n",
       "    }\n",
       "\n",
       "    .dataframe thead th {\n",
       "        text-align: right;\n",
       "    }\n",
       "</style>\n",
       "<table border=\"1\" class=\"dataframe\">\n",
       "  <thead>\n",
       "    <tr style=\"text-align: right;\">\n",
       "      <th></th>\n",
       "      <th>Unnamed: 0</th>\n",
       "      <th>id</th>\n",
       "      <th>author_id</th>\n",
       "      <th>text</th>\n",
       "      <th>retweets</th>\n",
       "      <th>permalink</th>\n",
       "      <th>date</th>\n",
       "      <th>formatted_date</th>\n",
       "      <th>favorites</th>\n",
       "      <th>mentions</th>\n",
       "      <th>hashtags</th>\n",
       "      <th>geo</th>\n",
       "      <th>urls</th>\n",
       "      <th>search_hashtags</th>\n",
       "      <th>location</th>\n",
       "    </tr>\n",
       "  </thead>\n",
       "  <tbody>\n",
       "    <tr>\n",
       "      <th>0</th>\n",
       "      <td>58827</td>\n",
       "      <td>1.12914e+18</td>\n",
       "      <td>2.970636e+09</td>\n",
       "      <td>Peter doing his bit on the last day before the...</td>\n",
       "      <td>0</td>\n",
       "      <td>https://twitter.com/Cubaclarita/status/1129144...</td>\n",
       "      <td>2019-05-16 22:01:13+00:00</td>\n",
       "      <td>Thu May 16 22:01:13 +0000 2019</td>\n",
       "      <td>0</td>\n",
       "      <td>NaN</td>\n",
       "      <td>#ausvote #election2019 #auspol #australiavotes...</td>\n",
       "      <td>NaN</td>\n",
       "      <td>https://www.instagram.com/p/BxihAw3FcMu/?igshi...</td>\n",
       "      <td>#climatechange</td>\n",
       "      <td>Sydney, Australia</td>\n",
       "    </tr>\n",
       "    <tr>\n",
       "      <th>1</th>\n",
       "      <td>31428</td>\n",
       "      <td>1.13082e+18</td>\n",
       "      <td>9.080000e+17</td>\n",
       "      <td>“We can create amazing recreational areas that...</td>\n",
       "      <td>0</td>\n",
       "      <td>https://twitter.com/KristinKMA/status/11308186...</td>\n",
       "      <td>2019-05-21 12:52:35+00:00</td>\n",
       "      <td>Tue May 21 12:52:35 +0000 2019</td>\n",
       "      <td>3</td>\n",
       "      <td>@cookrobinchris @CityOfBoston @EmNecklaceBos</td>\n",
       "      <td>#equity #ClimateAction</td>\n",
       "      <td>NaN</td>\n",
       "      <td>NaN</td>\n",
       "      <td>#climateaction</td>\n",
       "      <td>Florida, USA</td>\n",
       "    </tr>\n",
       "    <tr>\n",
       "      <th>2</th>\n",
       "      <td>37881</td>\n",
       "      <td>1.17492e+18</td>\n",
       "      <td>3.006099e+08</td>\n",
       "      <td>#ClimateStrike. Melbourne. Please just start t...</td>\n",
       "      <td>0</td>\n",
       "      <td>https://twitter.com/CLang13/status/11749181253...</td>\n",
       "      <td>2019-09-20 05:28:04+00:00</td>\n",
       "      <td>Fri Sep 20 05:28:04 +0000 2019</td>\n",
       "      <td>0</td>\n",
       "      <td>NaN</td>\n",
       "      <td>#ClimateStrike</td>\n",
       "      <td>NaN</td>\n",
       "      <td>NaN</td>\n",
       "      <td>#climatestrike</td>\n",
       "      <td>Melbourne, Australia</td>\n",
       "    </tr>\n",
       "  </tbody>\n",
       "</table>\n",
       "</div>"
      ],
      "text/plain": [
       "   Unnamed: 0           id     author_id  \\\n",
       "0       58827  1.12914e+18  2.970636e+09   \n",
       "1       31428  1.13082e+18  9.080000e+17   \n",
       "2       37881  1.17492e+18  3.006099e+08   \n",
       "\n",
       "                                                text  retweets  \\\n",
       "0  Peter doing his bit on the last day before the...         0   \n",
       "1  “We can create amazing recreational areas that...         0   \n",
       "2  #ClimateStrike. Melbourne. Please just start t...         0   \n",
       "\n",
       "                                           permalink  \\\n",
       "0  https://twitter.com/Cubaclarita/status/1129144...   \n",
       "1  https://twitter.com/KristinKMA/status/11308186...   \n",
       "2  https://twitter.com/CLang13/status/11749181253...   \n",
       "\n",
       "                        date                  formatted_date  favorites  \\\n",
       "0  2019-05-16 22:01:13+00:00  Thu May 16 22:01:13 +0000 2019          0   \n",
       "1  2019-05-21 12:52:35+00:00  Tue May 21 12:52:35 +0000 2019          3   \n",
       "2  2019-09-20 05:28:04+00:00  Fri Sep 20 05:28:04 +0000 2019          0   \n",
       "\n",
       "                                       mentions  \\\n",
       "0                                           NaN   \n",
       "1  @cookrobinchris @CityOfBoston @EmNecklaceBos   \n",
       "2                                           NaN   \n",
       "\n",
       "                                            hashtags  geo  \\\n",
       "0  #ausvote #election2019 #auspol #australiavotes...  NaN   \n",
       "1                             #equity #ClimateAction  NaN   \n",
       "2                                     #ClimateStrike  NaN   \n",
       "\n",
       "                                                urls search_hashtags  \\\n",
       "0  https://www.instagram.com/p/BxihAw3FcMu/?igshi...  #climatechange   \n",
       "1                                                NaN  #climateaction   \n",
       "2                                                NaN  #climatestrike   \n",
       "\n",
       "               location  \n",
       "0     Sydney, Australia  \n",
       "1          Florida, USA  \n",
       "2  Melbourne, Australia  "
      ]
     },
     "execution_count": 22,
     "metadata": {},
     "output_type": "execute_result"
    }
   ],
   "source": [
    "path_in = \"twitterClimateData.csv\"\n",
    "df = pd.read_csv(path_in, delimiter=\";\")\n",
    "df = df.sample(40000)\n",
    "df = df[pd.notnull(df[\"text\"])].reset_index(drop=True)\n",
    "df.head(3)"
   ]
  },
  {
   "cell_type": "code",
   "execution_count": 23,
   "metadata": {},
   "outputs": [
    {
     "data": {
      "text/html": [
       "<div>\n",
       "<style scoped>\n",
       "    .dataframe tbody tr th:only-of-type {\n",
       "        vertical-align: middle;\n",
       "    }\n",
       "\n",
       "    .dataframe tbody tr th {\n",
       "        vertical-align: top;\n",
       "    }\n",
       "\n",
       "    .dataframe thead th {\n",
       "        text-align: right;\n",
       "    }\n",
       "</style>\n",
       "<table border=\"1\" class=\"dataframe\">\n",
       "  <thead>\n",
       "    <tr style=\"text-align: right;\">\n",
       "      <th></th>\n",
       "      <th>search_hashtags</th>\n",
       "      <th>text</th>\n",
       "      <th>hashtags_id</th>\n",
       "    </tr>\n",
       "  </thead>\n",
       "  <tbody>\n",
       "    <tr>\n",
       "      <th>0</th>\n",
       "      <td>#climatechange</td>\n",
       "      <td>Peter doing his bit on the last day before the...</td>\n",
       "      <td>0</td>\n",
       "    </tr>\n",
       "    <tr>\n",
       "      <th>1</th>\n",
       "      <td>#climateaction</td>\n",
       "      <td>“We can create amazing recreational areas that...</td>\n",
       "      <td>1</td>\n",
       "    </tr>\n",
       "    <tr>\n",
       "      <th>2</th>\n",
       "      <td>#climatestrike</td>\n",
       "      <td>#ClimateStrike. Melbourne. Please just start t...</td>\n",
       "      <td>2</td>\n",
       "    </tr>\n",
       "    <tr>\n",
       "      <th>3</th>\n",
       "      <td>#savetheplanet</td>\n",
       "      <td>It’s the first day of fall and it’s going to b...</td>\n",
       "      <td>3</td>\n",
       "    </tr>\n",
       "    <tr>\n",
       "      <th>4</th>\n",
       "      <td>#climatestrike</td>\n",
       "      <td>#Strike4Climate #ClimateStrike</td>\n",
       "      <td>2</td>\n",
       "    </tr>\n",
       "  </tbody>\n",
       "</table>\n",
       "</div>"
      ],
      "text/plain": [
       "  search_hashtags                                               text  \\\n",
       "0  #climatechange  Peter doing his bit on the last day before the...   \n",
       "1  #climateaction  “We can create amazing recreational areas that...   \n",
       "2  #climatestrike  #ClimateStrike. Melbourne. Please just start t...   \n",
       "3  #savetheplanet  It’s the first day of fall and it’s going to b...   \n",
       "4  #climatestrike                     #Strike4Climate #ClimateStrike   \n",
       "\n",
       "   hashtags_id  \n",
       "0            0  \n",
       "1            1  \n",
       "2            2  \n",
       "3            3  \n",
       "4            2  "
      ]
     },
     "execution_count": 23,
     "metadata": {},
     "output_type": "execute_result"
    }
   ],
   "source": [
    "from io import StringIO\n",
    "col = ['search_hashtags', 'text']\n",
    "df = df[col]\n",
    "df = df[pd.notnull(df['text'])]\n",
    "df.columns = ['search_hashtags', 'text']\n",
    "df['hashtags_id'] = df['search_hashtags'].factorize()[0]\n",
    "category_id_df = df[['search_hashtags', 'hashtags_id']].drop_duplicates().sort_values('hashtags_id')\n",
    "category_to_id = dict(category_id_df.values)\n",
    "id_to_category = dict(category_id_df[['hashtags_id', 'search_hashtags']].values)\n",
    "df.head()"
   ]
  },
  {
   "cell_type": "code",
   "execution_count": 24,
   "metadata": {},
   "outputs": [
    {
     "data": {
      "image/png": "[encoded data removed]",
      "text/plain": [
       "<Figure size 800x600 with 1 Axes>"
      ]
     },
     "metadata": {},
     "output_type": "display_data"
    }
   ],
   "source": [
    "import matplotlib.pyplot as plt\n",
    "fig = plt.figure(figsize=(8,6))\n",
    "df.groupby('search_hashtags').text.count().plot.bar(ylim=0)\n",
    "plt.show()"
   ]
  },
  {
   "cell_type": "code",
   "execution_count": 25,
   "metadata": {},
   "outputs": [
    {
     "data": {
      "text/plain": [
       "(40000, 26225)"
      ]
     },
     "execution_count": 25,
     "metadata": {},
     "output_type": "execute_result"
    }
   ],
   "source": [
    "from sklearn.feature_extraction.text import TfidfVectorizer\n",
    "tfidf = TfidfVectorizer(sublinear_tf=True, min_df=5, norm='l2',  ngram_range=(1, 2), stop_words='english')\n",
    "features = tfidf.fit_transform(df.text).toarray()\n",
    "labels = df.hashtags_id\n",
    "features.shape"
   ]
  },
  {
   "cell_type": "code",
   "execution_count": 26,
   "metadata": {},
   "outputs": [
    {
     "data": {
      "text/plain": [
       "array([[0., 0., 0., ..., 0., 0., 0.],\n",
       "       [0., 0., 0., ..., 0., 0., 0.],\n",
       "       [0., 0., 0., ..., 0., 0., 0.],\n",
       "       ...,\n",
       "       [0., 0., 0., ..., 0., 0., 0.],\n",
       "       [0., 0., 0., ..., 0., 0., 0.],\n",
       "       [0., 0., 0., ..., 0., 0., 0.]])"
      ]
     },
     "execution_count": 26,
     "metadata": {},
     "output_type": "execute_result"
    }
   ],
   "source": [
    "features"
   ]
  },
  {
   "cell_type": "code",
   "execution_count": 27,
   "metadata": {},
   "outputs": [
    {
     "name": "stdout",
     "output_type": "stream",
     "text": [
      "# '#actonclimate':\n",
      "  . Most correlated unigrams:\n",
      ". 100by50\n",
      ". actonclimate\n",
      "  . Most correlated bigrams:\n",
      ". actonclimate climateactionnow\n",
      ". allarecalled actonclimate\n",
      "# '#bushfires':\n",
      "  . Most correlated unigrams:\n",
      ". smoke\n",
      ". bushfires\n",
      "  . Most correlated bigrams:\n",
      ". bushfires auspol\n",
      ". auspol bushfires\n",
      "# '#climateaction':\n",
      "  . Most correlated unigrams:\n",
      ". sdgs\n",
      ". climateaction\n",
      "  . Most correlated bigrams:\n",
      ". united nations\n",
      ". climatechange climateaction\n",
      "# '#climatechange':\n",
      "  . Most correlated unigrams:\n",
      ". climatestrike\n",
      ". climatechange\n",
      "  . Most correlated bigrams:\n",
      ". climatechange real\n",
      ". auspol climatechange\n",
      "# '#climatecrisis':\n",
      "  . Most correlated unigrams:\n",
      ". climatestrike\n",
      ". climatecrisis\n",
      "  . Most correlated bigrams:\n",
      ". climateemergency climatecrisis\n",
      ". climatechange climatecrisis\n",
      "# '#climatestrike':\n",
      "  . Most correlated unigrams:\n",
      ". climatechange\n",
      ". climatestrike\n",
      "  . Most correlated bigrams:\n",
      ". climatestrike climateaction\n",
      ". today climatestrike\n",
      "# '#environment':\n",
      "  . Most correlated unigrams:\n",
      ". birchfabrics\n",
      ". environment\n",
      "  . Most correlated bigrams:\n",
      ". greenliving environment\n",
      ". organiccotton birchfabrics\n",
      "# '#fridaysforfuture':\n",
      "  . Most correlated unigrams:\n",
      ". fridaythoughts\n",
      ". fridaysforfuture\n",
      "  . Most correlated bigrams:\n",
      ". fridaymotivation fridaysforfuture\n",
      ". climatestrike fridaysforfuture\n",
      "# '#globalwarming':\n",
      "  . Most correlated unigrams:\n",
      ". warming\n",
      ". globalwarming\n",
      "  . Most correlated bigrams:\n",
      ". globalwarming climatechange\n",
      ". climatechange globalwarming\n",
      "# '#greennewdeal':\n",
      "  . Most correlated unigrams:\n",
      ". aoc\n",
      ". greennewdeal\n",
      "  . Most correlated bigrams:\n",
      ". greennewdeal possible\n",
      ". medicareforall greennewdeal\n",
      "# '#savetheplanet':\n",
      "  . Most correlated unigrams:\n",
      ". savetheearth\n",
      ". savetheplanet\n",
      "  . Most correlated bigrams:\n",
      ". savetheplanet plasticpollution\n",
      ". savetheearth savetheplanet\n",
      "# '#sustainability':\n",
      "  . Most correlated unigrams:\n",
      ". mikeinc\n",
      ". sustainability\n",
      "  . Most correlated bigrams:\n",
      ". beprolific minimalism\n",
      ". minimalism modern\n"
     ]
    }
   ],
   "source": [
    "from sklearn.feature_selection import chi2\n",
    "import numpy as np\n",
    "N = 2\n",
    "for search_hashtags, hashtags_id in sorted(category_to_id.items()):\n",
    "  features_chi2 = chi2(features, labels == hashtags_id)\n",
    "  indices = np.argsort(features_chi2[0])\n",
    "  feature_names = np.array(tfidf.get_feature_names_out())[indices]\n",
    "  unigrams = [v for v in feature_names if len(v.split(' ')) == 1]\n",
    "  bigrams = [v for v in feature_names if len(v.split(' ')) == 2]\n",
    "  print(\"# '{}':\".format(search_hashtags))\n",
    "  print(\"  . Most correlated unigrams:\\n. {}\".format('\\n. '.join(unigrams[-N:])))\n",
    "  print(\"  . Most correlated bigrams:\\n. {}\".format('\\n. '.join(bigrams[-N:])))"
   ]
  },
  {
   "cell_type": "code",
   "execution_count": 28,
   "metadata": {},
   "outputs": [],
   "source": [
    "#For Train set\n",
    "\n",
    "#Term Frecuency - TF \n",
    "count_vect = CountVectorizer()\n",
    "X_counts = count_vect.fit_transform(df['text'])\n",
    "\n",
    "#TF - IDF\n",
    "tfidf_transformer = TfidfTransformer()\n",
    "X_tfidf = tfidf_transformer.fit_transform(X_counts)"
   ]
  },
  {
   "cell_type": "code",
   "execution_count": 29,
   "metadata": {},
   "outputs": [],
   "source": [
    "# Naive Bayes Classifier: the one most suitable for word counts is the multinomial variant:\n",
    "\n",
    "X_train, X_test, y_train, y_test = train_test_split(X_tfidf, df['search_hashtags'], random_state = 0)"
   ]
  },
  {
   "cell_type": "code",
   "execution_count": 30,
   "metadata": {},
   "outputs": [
    {
     "name": "stdout",
     "output_type": "stream",
     "text": [
      "MultinomialNB()\n"
     ]
    }
   ],
   "source": [
    "clf = MultinomialNB().fit(X_train, y_train)\n",
    "print(clf)"
   ]
  },
  {
   "cell_type": "code",
   "execution_count": 31,
   "metadata": {},
   "outputs": [
    {
     "data": {
      "text/plain": [
       "0.4581"
      ]
     },
     "execution_count": 31,
     "metadata": {},
     "output_type": "execute_result"
    }
   ],
   "source": [
    "# Naive Bayes Classifier: the one most suitable for word counts is the multinomial variant:\n",
    "\n",
    "import pickle\n",
    "\n",
    "pickle.dump(clf,open(\"file.model\",\"wb\"))\n",
    "\n",
    "#clf = pickle.load(open(\"file.model\", 'rb'))\n",
    "result = clf.score(X_test, y_test)\n",
    "result"
   ]
  },
  {
   "cell_type": "markdown",
   "metadata": {},
   "source": [
    "## validación del modelo"
   ]
  },
  {
   "cell_type": "code",
   "execution_count": 32,
   "metadata": {},
   "outputs": [
    {
     "name": "stdout",
     "output_type": "stream",
     "text": [
      "Accuracy: 0.4581\n",
      "F1 score: 0.19332009290217944\n"
     ]
    }
   ],
   "source": [
    "y_pred = clf.predict(X_test)\n",
    "\n",
    "print('Accuracy:', accuracy_score(y_test, y_pred))\n",
    "print('F1 score:', f1_score(y_test, y_pred, average=\"macro\"))"
   ]
  },
  {
   "cell_type": "code",
   "execution_count": 33,
   "metadata": {},
   "outputs": [
    {
     "name": "stdout",
     "output_type": "stream",
     "text": [
      "                   precision    recall  f1-score   support\n",
      "\n",
      "    #actonclimate       1.00      0.01      0.01       268\n",
      "       #bushfires       0.00      0.00      0.00       134\n",
      "   #climateaction       0.79      0.04      0.08       872\n",
      "   #climatechange       0.36      0.81      0.49      2206\n",
      "   #climatecrisis       1.00      0.03      0.05       686\n",
      "   #climatestrike       0.52      0.94      0.67      2523\n",
      "     #environment       0.76      0.10      0.18       653\n",
      "#fridaysforfuture       0.94      0.04      0.07       428\n",
      "   #globalwarming       0.79      0.10      0.17       559\n",
      "    #greennewdeal       0.95      0.11      0.20       642\n",
      "   #savetheplanet       1.00      0.02      0.04       205\n",
      "  #sustainability       0.90      0.20      0.33       824\n",
      "\n",
      "         accuracy                           0.46     10000\n",
      "        macro avg       0.75      0.20      0.19     10000\n",
      "     weighted avg       0.66      0.46      0.36     10000\n",
      "\n"
     ]
    },
    {
     "name": "stderr",
     "output_type": "stream",
     "text": [
      "/home/dalopeza/.local/share/virtualenvs/Trabajo2_almdatos-ai3jCzIO/lib/python3.11/site-packages/sklearn/metrics/_classification.py:1469: UndefinedMetricWarning: Precision and F-score are ill-defined and being set to 0.0 in labels with no predicted samples. Use `zero_division` parameter to control this behavior.\n",
      "  _warn_prf(average, modifier, msg_start, len(result))\n",
      "/home/dalopeza/.local/share/virtualenvs/Trabajo2_almdatos-ai3jCzIO/lib/python3.11/site-packages/sklearn/metrics/_classification.py:1469: UndefinedMetricWarning: Precision and F-score are ill-defined and being set to 0.0 in labels with no predicted samples. Use `zero_division` parameter to control this behavior.\n",
      "  _warn_prf(average, modifier, msg_start, len(result))\n",
      "/home/dalopeza/.local/share/virtualenvs/Trabajo2_almdatos-ai3jCzIO/lib/python3.11/site-packages/sklearn/metrics/_classification.py:1469: UndefinedMetricWarning: Precision and F-score are ill-defined and being set to 0.0 in labels with no predicted samples. Use `zero_division` parameter to control this behavior.\n",
      "  _warn_prf(average, modifier, msg_start, len(result))\n"
     ]
    }
   ],
   "source": [
    "print(classification_report(y_test, y_pred))"
   ]
  }
 ],
 "metadata": {
  "kernelspec": {
   "display_name": "Trabajo2_almdatos-LZAGjvTA",
   "language": "python",
   "name": "python3"
  },
  "language_info": {
   "codemirror_mode": {
    "name": "ipython",
    "version": 3
   },
   "file_extension": ".py",
   "mimetype": "text/x-python",
   "name": "python",
   "nbconvert_exporter": "python",
   "pygments_lexer": "ipython3",
   "version": "3.11.5"
  },
  "orig_nbformat": 4
 },
 "nbformat": 4,
 "nbformat_minor": 2
}
