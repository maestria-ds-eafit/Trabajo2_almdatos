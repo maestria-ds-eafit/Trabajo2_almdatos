{
 "cells": [
  {
   "cell_type": "code",
   "execution_count": 1,
   "metadata": {},
   "outputs": [],
   "source": [
    "import pandas as pd\n",
    "import numpy as np\n",
    "from sklearn.feature_extraction.text import TfidfVectorizer\n",
    "from sklearn.model_selection import train_test_split\n",
    "from sklearn.naive_bayes import MultinomialNB\n",
    "from sklearn.metrics import accuracy_score\n",
    "from sklearn.metrics import classification_report\n",
    "from sklearn.metrics import f1_score"
   ]
  },
  {
   "cell_type": "code",
   "execution_count": 2,
   "metadata": {},
   "outputs": [],
   "source": [
    "path_in = \"twitterClimateData.csv\"\n",
    "df = pd.read_csv(path_in, delimiter=\";\")\n",
    "df = df.sample(1000)\n",
    "df = df[pd.notnull(df[\"text\"])]"
   ]
  },
  {
   "cell_type": "code",
   "execution_count": 3,
   "metadata": {},
   "outputs": [
    {
     "data": {
      "text/html": [
       "<div>\n",
       "<style scoped>\n",
       "    .dataframe tbody tr th:only-of-type {\n",
       "        vertical-align: middle;\n",
       "    }\n",
       "\n",
       "    .dataframe tbody tr th {\n",
       "        vertical-align: top;\n",
       "    }\n",
       "\n",
       "    .dataframe thead th {\n",
       "        text-align: right;\n",
       "    }\n",
       "</style>\n",
       "<table border=\"1\" class=\"dataframe\">\n",
       "  <thead>\n",
       "    <tr style=\"text-align: right;\">\n",
       "      <th></th>\n",
       "      <th>Unnamed: 0</th>\n",
       "      <th>id</th>\n",
       "      <th>author_id</th>\n",
       "      <th>text</th>\n",
       "      <th>retweets</th>\n",
       "      <th>permalink</th>\n",
       "      <th>date</th>\n",
       "      <th>formatted_date</th>\n",
       "      <th>favorites</th>\n",
       "      <th>mentions</th>\n",
       "      <th>hashtags</th>\n",
       "      <th>geo</th>\n",
       "      <th>urls</th>\n",
       "      <th>search_hashtags</th>\n",
       "      <th>location</th>\n",
       "    </tr>\n",
       "  </thead>\n",
       "  <tbody>\n",
       "    <tr>\n",
       "      <th>64732</th>\n",
       "      <td>64732</td>\n",
       "      <td>1.18312e+18</td>\n",
       "      <td>191250884.0</td>\n",
       "      <td>Thrilled to be a part of @morristownbooks and ...</td>\n",
       "      <td>1</td>\n",
       "      <td>https://twitter.com/DianaOlick/status/11831206...</td>\n",
       "      <td>2019-10-12 20:41:51+00:00</td>\n",
       "      <td>Sat Oct 12 20:41:51 +0000 2019</td>\n",
       "      <td>5</td>\n",
       "      <td>@MorristownBooks</td>\n",
       "      <td>#realestate #climatechange #gilbertgaul #money...</td>\n",
       "      <td>NaN</td>\n",
       "      <td>https://www.instagram.com/p/B3iC0nwhFPr/?igshi...</td>\n",
       "      <td>#climatechange</td>\n",
       "      <td>Washington, USA</td>\n",
       "    </tr>\n",
       "  </tbody>\n",
       "</table>\n",
       "</div>"
      ],
      "text/plain": [
       "       Unnamed: 0           id    author_id  \\\n",
       "64732       64732  1.18312e+18  191250884.0   \n",
       "\n",
       "                                                    text  retweets  \\\n",
       "64732  Thrilled to be a part of @morristownbooks and ...         1   \n",
       "\n",
       "                                               permalink  \\\n",
       "64732  https://twitter.com/DianaOlick/status/11831206...   \n",
       "\n",
       "                            date                  formatted_date  favorites  \\\n",
       "64732  2019-10-12 20:41:51+00:00  Sat Oct 12 20:41:51 +0000 2019          5   \n",
       "\n",
       "               mentions                                           hashtags  \\\n",
       "64732  @MorristownBooks  #realestate #climatechange #gilbertgaul #money...   \n",
       "\n",
       "       geo                                               urls search_hashtags  \\\n",
       "64732  NaN  https://www.instagram.com/p/B3iC0nwhFPr/?igshi...  #climatechange   \n",
       "\n",
       "              location  \n",
       "64732  Washington, USA  "
      ]
     },
     "execution_count": 3,
     "metadata": {},
     "output_type": "execute_result"
    }
   ],
   "source": [
    "df.head(1)"
   ]
  },
  {
   "cell_type": "code",
   "execution_count": 4,
   "metadata": {},
   "outputs": [],
   "source": [
    "count_vec = TfidfVectorizer()\n",
    "bow = count_vec.fit_transform(df['text'])\n",
    "bow = np.array(bow.todense())"
   ]
  },
  {
   "cell_type": "code",
   "execution_count": 5,
   "metadata": {},
   "outputs": [],
   "source": [
    "X = bow\n",
    "y = df.search_hashtags\n",
    "\n",
    "X_train, X_test, y_train, y_test = train_test_split(X, y, \n",
    "                                                    test_size=0.3, \n",
    "                                                    stratify=y)"
   ]
  },
  {
   "cell_type": "code",
   "execution_count": 6,
   "metadata": {},
   "outputs": [],
   "source": [
    "model = MultinomialNB().fit(X_train, y_train)"
   ]
  },
  {
   "cell_type": "code",
   "execution_count": 7,
   "metadata": {},
   "outputs": [],
   "source": [
    "y_pred = model.predict(X_test)"
   ]
  },
  {
   "cell_type": "code",
   "execution_count": 8,
   "metadata": {},
   "outputs": [
    {
     "name": "stdout",
     "output_type": "stream",
     "text": [
      "Accuracy: 0.33\n",
      "F1 score: 0.09115426860680993\n"
     ]
    }
   ],
   "source": [
    "print(f\"Accuracy: {accuracy_score(y_test, y_pred)}\")\n",
    "print(f\"F1 score: {f1_score(y_test, y_pred, average='macro')}\")"
   ]
  },
  {
   "cell_type": "code",
   "execution_count": 9,
   "metadata": {},
   "outputs": [
    {
     "name": "stdout",
     "output_type": "stream",
     "text": [
      "                   precision    recall  f1-score   support\n",
      "\n",
      "    #actonclimate       0.00      0.00      0.00         8\n",
      "       #bushfires       0.00      0.00      0.00         3\n",
      "   #climateaction       0.00      0.00      0.00        25\n",
      "   #climatechange       0.73      0.26      0.38        62\n",
      "   #climatecrisis       1.00      0.04      0.08        24\n",
      "   #climatestrike       0.29      1.00      0.45        80\n",
      "     #environment       1.00      0.05      0.09        22\n",
      "#fridaysforfuture       0.00      0.00      0.00        13\n",
      "   #globalwarming       0.00      0.00      0.00        18\n",
      "    #greennewdeal       0.00      0.00      0.00        18\n",
      "   #savetheplanet       0.00      0.00      0.00         7\n",
      "  #sustainability       1.00      0.05      0.10        20\n",
      "\n",
      "         accuracy                           0.33       300\n",
      "        macro avg       0.33      0.12      0.09       300\n",
      "     weighted avg       0.45      0.33      0.22       300\n",
      "\n"
     ]
    },
    {
     "name": "stderr",
     "output_type": "stream",
     "text": [
      "/home/david/.local/share/virtualenvs/Trabajo2_almdatos-LZAGjvTA/lib/python3.11/site-packages/sklearn/metrics/_classification.py:1469: UndefinedMetricWarning: Precision and F-score are ill-defined and being set to 0.0 in labels with no predicted samples. Use `zero_division` parameter to control this behavior.\n",
      "  _warn_prf(average, modifier, msg_start, len(result))\n",
      "/home/david/.local/share/virtualenvs/Trabajo2_almdatos-LZAGjvTA/lib/python3.11/site-packages/sklearn/metrics/_classification.py:1469: UndefinedMetricWarning: Precision and F-score are ill-defined and being set to 0.0 in labels with no predicted samples. Use `zero_division` parameter to control this behavior.\n",
      "  _warn_prf(average, modifier, msg_start, len(result))\n",
      "/home/david/.local/share/virtualenvs/Trabajo2_almdatos-LZAGjvTA/lib/python3.11/site-packages/sklearn/metrics/_classification.py:1469: UndefinedMetricWarning: Precision and F-score are ill-defined and being set to 0.0 in labels with no predicted samples. Use `zero_division` parameter to control this behavior.\n",
      "  _warn_prf(average, modifier, msg_start, len(result))\n"
     ]
    }
   ],
   "source": [
    "print(classification_report(y_test, y_pred))"
   ]
  },
  {
   "cell_type": "markdown",
   "metadata": {},
   "source": [
    "# Referencias\n",
    "\n",
    "* How to create a Naive Bayes text classification model using scikit-learn: https://practicaldatascience.co.uk/machine-learning/how-to-create-a-naive-bayes-text-classification-model-using-scikit-learn"
   ]
  },
  {
   "cell_type": "markdown",
   "metadata": {},
   "source": []
  }
 ],
 "metadata": {
  "kernelspec": {
   "display_name": "Trabajo2_almdatos-LZAGjvTA",
   "language": "python",
   "name": "python3"
  },
  "language_info": {
   "codemirror_mode": {
    "name": "ipython",
    "version": 3
   },
   "file_extension": ".py",
   "mimetype": "text/x-python",
   "name": "python",
   "nbconvert_exporter": "python",
   "pygments_lexer": "ipython3",
   "version": "3.11.5"
  },
  "orig_nbformat": 4
 },
 "nbformat": 4,
 "nbformat_minor": 2
}
